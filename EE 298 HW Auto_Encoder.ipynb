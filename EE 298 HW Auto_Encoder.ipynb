{
  "nbformat": 4,
  "nbformat_minor": 0,
  "metadata": {
    "colab": {
      "name": "Auto Encoder.ipynb",
      "provenance": [],
      "collapsed_sections": []
    },
    "kernelspec": {
      "name": "python3",
      "display_name": "Python 3"
    },
    "accelerator": "GPU"
  },
  "cells": [
    {
      "cell_type": "markdown",
      "metadata": {
        "id": "otUSLI_4Z01I",
        "colab_type": "text"
      },
      "source": [
        "# Denoising Auto Encoder for Corrupted MNIST Data"
      ]
    },
    {
      "cell_type": "markdown",
      "metadata": {
        "id": "wZrX2gqLdKWf",
        "colab_type": "text"
      },
      "source": [
        "Created by: Eldion Vincent H. Bartolo\n",
        "\n",
        "This Jupyter notebook builds a working model of a restoring autoencoder for corrupted MNIST. It is ran through Google Colab\n",
        "\n",
        "Input: Input data is an MNIST image corrupted by a white square of at most 25% of the image area\n",
        "\n",
        "Output: Restored MNIST image w/o the corrupting white square.\n",
        "\n",
        "Notes:\n",
        "1. Area of white square follows a uniform distribution over [6.25, 25] percent of the image area. That is, the dimension of the square should be sampled \n",
        "from: S = [7, 14] pixels.\n",
        "2. Position of white square is randomly chosen. The x- and y-coordinates of the top-left corner are independently sampled from a uniform distribution \n",
        "over [0, 28 - S], where S is the length of the white square's side."
      ]
    },
    {
      "cell_type": "markdown",
      "metadata": {
        "id": "MwSpxMGeObFC",
        "colab_type": "text"
      },
      "source": [
        "**Connect to Google Drive and Clone Github Repository**\n",
        "\n"
      ]
    },
    {
      "cell_type": "code",
      "metadata": {
        "id": "Bo0SVCDo4oZl",
        "colab_type": "code",
        "outputId": "21f61ccb-920c-4e5b-8335-280f56833e5f",
        "colab": {
          "base_uri": "https://localhost:8080/",
          "height": 51
        }
      },
      "source": [
        "# connect to google drive\n",
        "from google.colab import drive\n",
        "drive.mount('/content/gdrive')\n",
        "\n",
        "# location of mnist_cnn.h5 for benchmarking\n",
        "class_weight = '/content/gdrive/My Drive/saved_weights/mnist_cnn.h5'\n",
        "\n",
        "# clone the public github repository : Original code: https://github.com/baudm/ee298z.git\n",
        "!git clone https://github.com/ehbartolo/ee298Z_autoencoder.git\n",
        "  \n",
        "from ee298Z_autoencoder.hw2.transforms import corrupt_mnist_copy\n"
      ],
      "execution_count": 12,
      "outputs": [
        {
          "output_type": "stream",
          "text": [
            "Mounted at /content/gdrive\n",
            "fatal: destination path 'ee298Z_autoencoder' already exists and is not an empty directory.\n"
          ],
          "name": "stdout"
        }
      ]
    },
    {
      "cell_type": "markdown",
      "metadata": {
        "id": "_df5rXyubnNu",
        "colab_type": "text"
      },
      "source": [
        "**Load MNIST Data and Generate Corrupted Data**\n",
        "\n",
        "---\n",
        "\n",
        "Corruption of data can is done thru the code from this public github repo:\n",
        "https://github.com/baudm/ee298z.git\n"
      ]
    },
    {
      "cell_type": "code",
      "metadata": {
        "id": "1kHtAjmZ7E8y",
        "colab_type": "code",
        "outputId": "ca6c9424-9167-4cc8-f74d-105697775d0f",
        "colab": {
          "base_uri": "https://localhost:8080/",
          "height": 138
        }
      },
      "source": [
        "'''Trains a denoising autoencoder on MNIST dataset.\n",
        "Denoising is one of the classic applications of autoencoders.\n",
        "The denoising process removes unwanted noise that corrupted the\n",
        "true signal.\n",
        "Noise + Data ---> Denoising Autoencoder ---> Data\n",
        "Given a training dataset of corrupted data as input and\n",
        "true signal as output, a denoising autoencoder can recover the\n",
        "hidden structure to generate clean data.\n",
        "This example has modular design. The encoder, decoder and autoencoder\n",
        "are 3 models that share weights. For example, after training the\n",
        "autoencoder, the encoder can be used to  generate latent vectors\n",
        "of input data for low-dim visualization like PCA or TSNE.\n",
        "'''\n",
        "                                                                    \n",
        "from __future__ import absolute_import\n",
        "from __future__ import division\n",
        "from __future__ import print_function\n",
        "\n",
        "from keras.layers import Dense, Input\n",
        "from keras.layers import Conv2D, Flatten\n",
        "from keras.layers import Reshape, Conv2DTranspose\n",
        "from keras.models import Model\n",
        "from keras import backend as K\n",
        "from keras.datasets import mnist\n",
        "import numpy as np\n",
        "import matplotlib.pyplot as plt\n",
        "from PIL import Image\n",
        "\n",
        "np.random.seed(1337)\n",
        "\n",
        "# load MNIST dataset\n",
        "(x_train, y_train), (x_test, y_test) = mnist.load_data()\n",
        "x_train_noisy = corrupt_mnist_copy(x_train)\n",
        "x_test_noisy = corrupt_mnist_copy(x_test)\n",
        "\n",
        "# Display train and corrupted train data\n",
        "# 1 set of images with 9 MNIST digits\n",
        "# 1st rows - original images\n",
        "# 2nd rows - images corrupted by noise\n",
        "image_size = x_train.shape[1]\n",
        "rows, cols = 1, 9\n",
        "num = rows * cols\n",
        "imgs = np.concatenate([x_train[:num], x_train_noisy[:num]])\n",
        "imgs = imgs.reshape((rows * 2, cols, image_size, image_size))\n",
        "imgs = np.vstack(np.split(imgs, rows, axis=1))\n",
        "imgs = imgs.reshape((rows * 2, -1, image_size, image_size))\n",
        "imgs = np.vstack([np.hstack(i) for i in imgs])\n",
        "imgs = (imgs * 1).astype(np.uint8)\n",
        "plt.figure()\n",
        "plt.axis('off')\n",
        "plt.title('Original images: top rows, '\n",
        "          'Corrupted Input: bottom rows')\n",
        "plt.imshow(imgs, interpolation='none', cmap='gray')\n",
        "Image.fromarray(imgs).save('corrupted_and_original.png')\n",
        "plt.show()"
      ],
      "execution_count": 3,
      "outputs": [
        {
          "output_type": "display_data",
          "data": {
            "image/png": "[encoded data removed]",
            "text/plain": [
              "<Figure size 432x288 with 1 Axes>"
            ]
          },
          "metadata": {
            "tags": []
          }
        }
      ]
    },
    {
      "cell_type": "markdown",
      "metadata": {
        "id": "wQLmEqofc4M9",
        "colab_type": "text"
      },
      "source": [
        "**Normalize original and corrupted data**\n",
        "\n",
        "---\n",
        "\n",
        "\n",
        "Data should range from [0,1]"
      ]
    },
    {
      "cell_type": "code",
      "metadata": {
        "id": "HTecXW6cbR2R",
        "colab_type": "code",
        "colab": {}
      },
      "source": [
        "# reshape to (28, 28, 1) and normalize input images\n",
        "image_size = x_train.shape[1]\n",
        "x_train = np.reshape(x_train, [-1, image_size, image_size, 1])\n",
        "x_test = np.reshape(x_test, [-1, image_size, image_size, 1])\n",
        "x_train = x_train.astype('float32') / 255\n",
        "x_test = x_test.astype('float32') / 255\n",
        "x_train_noisy = np.reshape(x_train_noisy, [-1, image_size, image_size, 1])\n",
        "x_test_noisy = np.reshape(x_test_noisy, [-1, image_size, image_size, 1])\n",
        "x_train_noisy = x_train_noisy .astype('float32') / 255\n",
        "x_test_noisy = x_test_noisy.astype('float32') / 255\n",
        "\n",
        "# adding noise may exceed normalized pixel values>1.0 or <0.0\n",
        "# clip pixel values >1.0 to 1.0 and <0.0 to 0.0\n",
        "x_train_noisy = np.clip(x_train_noisy, 0., 1.)\n",
        "x_test_noisy = np.clip(x_test_noisy, 0., 1.)\n",
        "\n"
      ],
      "execution_count": 0,
      "outputs": []
    },
    {
      "cell_type": "markdown",
      "metadata": {
        "id": "KFPC8Ye3eCZ5",
        "colab_type": "text"
      },
      "source": [
        "**Build the Auto-Encoder Model**\n",
        "\n",
        "![https://blog.keras.io/img/ae/autoencoder_schema.jpg](https://blog.keras.io/img/ae/autoencoder_schema.jpg)\n",
        "\n",
        "\n",
        "\n",
        "1.   Build the Encoder using as stack of Conv2D(32)-Conv2D(64): CNN Layers activated by reLU and a dense layer on its output\n",
        "2.   Build the Decoder using stack of Conv2DTranspose(64)-Conv2DTranspose(32) activated by ReLU and Conv2DTranspose(1) activated by sigmoid.\n",
        "3. Build the Auto Encoder by feeding the output of Encoder to a Decoder\n",
        "\n"
      ]
    },
    {
      "cell_type": "code",
      "metadata": {
        "id": "rzVbahwgcwz0",
        "colab_type": "code",
        "colab": {
          "base_uri": "https://localhost:8080/",
          "height": 901
        },
        "outputId": "770e0bad-271d-4c2e-8489-93500468bc23"
      },
      "source": [
        "# network parameters\n",
        "input_shape = (image_size, image_size, 1)\n",
        "batch_size = 32\n",
        "kernel_size = 3\n",
        "latent_dim = 16\n",
        "# encoder/decoder number of CNN layers and filters per layer\n",
        "layer_filters = [32, 64]\n",
        "\n",
        "# build the autoencoder model\n",
        "# first build the encoder model\n",
        "inputs = Input(shape=input_shape, name='encoder_input')\n",
        "x = inputs\n",
        "\n",
        "# stack of Conv2D(32)-Conv2D(64)\n",
        "for filters in layer_filters:\n",
        "    x = Conv2D(filters=filters,\n",
        "               kernel_size=kernel_size,\n",
        "               strides=2,\n",
        "               activation='relu',\n",
        "               padding='same')(x)\n",
        "\n",
        "# shape info needed to build decoder model so we don't do hand computation\n",
        "# the input to the decoder's first Conv2DTranspose will have this shape\n",
        "# shape is (7, 7, 64) which can be processed by the decoder back to (28, 28, 1)\n",
        "shape = K.int_shape(x)\n",
        "\n",
        "# generate the latent vector\n",
        "x = Flatten()(x)\n",
        "latent = Dense(latent_dim, name='latent_vector')(x)\n",
        "\n",
        "# instantiate encoder model\n",
        "encoder = Model(inputs, latent, name='encoder')\n",
        "encoder.summary()\n",
        "\n",
        "# build the decoder model\n",
        "latent_inputs = Input(shape=(latent_dim,), name='decoder_input')\n",
        "# use the shape (7, 7, 64) that was earlier saved\n",
        "x = Dense(shape[1] * shape[2] * shape[3])(latent_inputs)\n",
        "# from vector to suitable shape for transposed conv\n",
        "x = Reshape((shape[1], shape[2], shape[3]))(x)\n",
        "\n",
        "# stack of Conv2DTranspose(64)-Conv2DTranspose(32)\n",
        "for filters in layer_filters[::-1]:\n",
        "    x = Conv2DTranspose(filters=filters,\n",
        "                        kernel_size=kernel_size,\n",
        "                        strides=2,\n",
        "                        activation='relu',\n",
        "                        padding='same')(x)\n",
        "\n",
        "# reconstruct the denoised input\n",
        "outputs = Conv2DTranspose(filters=1,\n",
        "                          kernel_size=kernel_size,\n",
        "                          padding='same',\n",
        "                          activation='sigmoid',\n",
        "                          name='decoder_output')(x)\n",
        "\n",
        "# instantiate decoder model\n",
        "decoder = Model(latent_inputs, outputs, name='decoder')\n",
        "decoder.summary()\n",
        "\n",
        "# autoencoder = encoder + decoder\n",
        "# instantiate autoencoder model\n",
        "autoencoder = Model(inputs, decoder(encoder(inputs)), name='autoencoder')\n",
        "autoencoder.summary()\n",
        "\n",
        "# Mean Square Error (MSE) loss function, Adam optimizer\n",
        "autoencoder.compile(loss='mse', optimizer='adam')"
      ],
      "execution_count": 6,
      "outputs": [
        {
          "output_type": "stream",
          "text": [
            "Model: \"encoder\"\n",
            "_________________________________________________________________\n",
            "Layer (type)                 Output Shape              Param #   \n",
            "=================================================================\n",
            "encoder_input (InputLayer)   (None, 28, 28, 1)         0         \n",
            "_________________________________________________________________\n",
            "conv2d_3 (Conv2D)            (None, 14, 14, 32)        320       \n",
            "_________________________________________________________________\n",
            "conv2d_4 (Conv2D)            (None, 7, 7, 64)          18496     \n",
            "_________________________________________________________________\n",
            "flatten_2 (Flatten)          (None, 3136)              0         \n",
            "_________________________________________________________________\n",
            "latent_vector (Dense)        (None, 16)                50192     \n",
            "=================================================================\n",
            "Total params: 69,008\n",
            "Trainable params: 69,008\n",
            "Non-trainable params: 0\n",
            "_________________________________________________________________\n",
            "Model: \"decoder\"\n",
            "_________________________________________________________________\n",
            "Layer (type)                 Output Shape              Param #   \n",
            "=================================================================\n",
            "decoder_input (InputLayer)   (None, 16)                0         \n",
            "_________________________________________________________________\n",
            "dense_2 (Dense)              (None, 3136)              53312     \n",
            "_________________________________________________________________\n",
            "reshape_2 (Reshape)          (None, 7, 7, 64)          0         \n",
            "_________________________________________________________________\n",
            "conv2d_transpose_3 (Conv2DTr (None, 14, 14, 64)        36928     \n",
            "_________________________________________________________________\n",
            "conv2d_transpose_4 (Conv2DTr (None, 28, 28, 32)        18464     \n",
            "_________________________________________________________________\n",
            "decoder_output (Conv2DTransp (None, 28, 28, 1)         289       \n",
            "=================================================================\n",
            "Total params: 108,993\n",
            "Trainable params: 108,993\n",
            "Non-trainable params: 0\n",
            "_________________________________________________________________\n",
            "Model: \"autoencoder\"\n",
            "_________________________________________________________________\n",
            "Layer (type)                 Output Shape              Param #   \n",
            "=================================================================\n",
            "encoder_input (InputLayer)   (None, 28, 28, 1)         0         \n",
            "_________________________________________________________________\n",
            "encoder (Model)              (None, 16)                69008     \n",
            "_________________________________________________________________\n",
            "decoder (Model)              (None, 28, 28, 1)         108993    \n",
            "=================================================================\n",
            "Total params: 178,001\n",
            "Trainable params: 178,001\n",
            "Non-trainable params: 0\n",
            "_________________________________________________________________\n"
          ],
          "name": "stdout"
        }
      ]
    },
    {
      "cell_type": "markdown",
      "metadata": {
        "id": "qY5IL8dmo4ft",
        "colab_type": "text"
      },
      "source": [
        "**Train the auto-encoder**\n",
        "\n",
        "\n",
        "---\n",
        "\n",
        "*   Train the auto-encoder for 10 epochs\n",
        "*   Use the test data for validation\n",
        "*   Plot the training and validation loss\n",
        "\n",
        "We can see that after 2 epochs the reduction of training loss is already minimal\n",
        "\n",
        "\n",
        "\n",
        "\n",
        "\n"
      ]
    },
    {
      "cell_type": "code",
      "metadata": {
        "id": "02_peGMadro2",
        "colab_type": "code",
        "colab": {
          "base_uri": "https://localhost:8080/",
          "height": 434
        },
        "outputId": "8ebaf724-965a-4cdd-8e80-44ff52eed2cd"
      },
      "source": [
        "# train the autoencoder\n",
        "history = autoencoder.fit(x_train_noisy,\n",
        "                x_train,\n",
        "                validation_data=(x_test_noisy, x_test),\n",
        "                epochs=10,\n",
        "                batch_size=batch_size, verbose=0)\n",
        "\n",
        "# list all data in history\n",
        "print(history.history.keys())\n",
        "# summarize history for accuracy\n",
        "#plt.plot(history.history['accuracy'])\n",
        "#plt.plot(history.history['val_accuracy'])\n",
        "#plt.title('model accuracy')\n",
        "#plt.ylabel('accuracy')\n",
        "#plt.xlabel('epoch')\n",
        "#plt.legend(['train', 'test'], loc='upper left')\n",
        "#plt.show()\n",
        "# summarize history for loss\n",
        "plt.plot(history.history['loss'])\n",
        "plt.plot(history.history['val_loss'])\n",
        "plt.title('model loss')\n",
        "plt.ylabel('loss')\n",
        "plt.xlabel('epoch')\n",
        "plt.legend(['train', 'test'], loc='upper left')\n",
        "plt.show()"
      ],
      "execution_count": 8,
      "outputs": [
        {
          "output_type": "stream",
          "text": [
            "WARNING:tensorflow:From /usr/local/lib/python3.6/dist-packages/keras/backend/tensorflow_backend.py:207: The name tf.global_variables is deprecated. Please use tf.compat.v1.global_variables instead.\n",
            "\n",
            "WARNING:tensorflow:From /usr/local/lib/python3.6/dist-packages/keras/backend/tensorflow_backend.py:216: The name tf.is_variable_initialized is deprecated. Please use tf.compat.v1.is_variable_initialized instead.\n",
            "\n",
            "WARNING:tensorflow:From /usr/local/lib/python3.6/dist-packages/keras/backend/tensorflow_backend.py:223: The name tf.variables_initializer is deprecated. Please use tf.compat.v1.variables_initializer instead.\n",
            "\n",
            "dict_keys(['val_loss', 'loss'])\n"
          ],
          "name": "stdout"
        },
        {
          "output_type": "display_data",
          "data": {
            "image/png": "[encoded data removed]",
            "text/plain": [
              "<Figure size 432x288 with 1 Axes>"
            ]
          },
          "metadata": {
            "tags": []
          }
        }
      ]
    },
    {
      "cell_type": "markdown",
      "metadata": {
        "id": "4n3IQ99VsPcl",
        "colab_type": "text"
      },
      "source": [
        "**Denoise the corrupted test data**\n",
        "\n",
        "---\n",
        "\n",
        "\n",
        "The shown images consist of 3 sets of:\n",
        "\n",
        "\n",
        "\n",
        "\n",
        "\n",
        "*   1st rows - original images\n",
        "*   2nd rows - images corrupted by noise\n",
        "*   3rd rows - denoised images\n",
        "\n",
        "We can see that some images are not properly denoised such as the following:\n",
        "\n",
        "\n",
        "*   The number '3' in 1st row is converted to '8' in 3rd row \n",
        "*   The number '5' in 4th row is converted to '8' in 6th row \n",
        "\n",
        "Some denoised images are blurry as compared to the original image\n",
        "\n",
        "\n",
        "\n",
        "\n",
        "\n",
        "\n",
        "\n",
        "\n"
      ]
    },
    {
      "cell_type": "code",
      "metadata": {
        "id": "AnVQHOtkorLL",
        "colab_type": "code",
        "colab": {
          "base_uri": "https://localhost:8080/",
          "height": 281
        },
        "outputId": "d119eeab-c29a-4ac4-ee00-6b06abfebee9"
      },
      "source": [
        "# predict the autoencoder output from corrupted test images\n",
        "x_decoded = autoencoder.predict(x_test_noisy)\n",
        "\n",
        "# 3 sets of images with 9 MNIST digits\n",
        "# 1st rows - original images\n",
        "# 2nd rows - images corrupted by noise\n",
        "# 3rd rows - denoised images\n",
        "rows, cols = 3, 9\n",
        "num = rows * cols\n",
        "imgs = np.concatenate([x_test[:num], x_test_noisy[:num], x_decoded[:num]])\n",
        "imgs = imgs.reshape((rows * 3, cols, image_size, image_size))\n",
        "imgs = np.vstack(np.split(imgs, rows, axis=1))\n",
        "imgs = imgs.reshape((rows * 3, -1, image_size, image_size))\n",
        "imgs = np.vstack([np.hstack(i) for i in imgs])\n",
        "imgs = (imgs * 255).astype(np.uint8)\n",
        "plt.figure()\n",
        "plt.axis('off')\n",
        "plt.title('Original images: top rows, '\n",
        "          'Corrupted Input: middle rows, '\n",
        "          'Denoised Input:  third rows')\n",
        "plt.imshow(imgs, interpolation='none', cmap='gray')\n",
        "Image.fromarray(imgs).save('corrupted_and_denoised.png')\n",
        "plt.show()"
      ],
      "execution_count": 10,
      "outputs": [
        {
          "output_type": "display_data",
          "data": {
            "image/png": "[encoded data removed]",
            "text/plain": [
              "<Figure size 432x288 with 1 Axes>"
            ]
          },
          "metadata": {
            "tags": []
          }
        }
      ]
    },
    {
      "cell_type": "markdown",
      "metadata": {
        "id": "giNrTp57vevZ",
        "colab_type": "text"
      },
      "source": [
        "**Test the accuracy of AutoEncoder using a Bechmark code**\n",
        "\n",
        "\n",
        "---\n",
        "Classifier score: **94.26**   (Baseline: 78.36)\n",
        "\n",
        "SSIM score: **89.65**         (Baseline: 75)"
      ]
    },
    {
      "cell_type": "code",
      "metadata": {
        "id": "4uukjHUZ1zai",
        "colab_type": "code",
        "outputId": "7cb03811-ce47-42e6-cc73-3e7dce6fe012",
        "colab": {
          "base_uri": "https://localhost:8080/",
          "height": 51
        }
      },
      "source": [
        "#test model:\n",
        "from tensorflow.keras.datasets import mnist\n",
        "from tensorflow.keras import backend as K\n",
        "from ee298Z_autoencoder.hw2.benchmark_keras import test_model\n",
        "\n",
        "(x_train, y_train), (x_test, y_test) = mnist.load_data()\n",
        "\n",
        "# Scale to [0, 1]                      \n",
        "x_test = x_test.astype(K.floatx()) / 255.\n",
        "\n",
        "# model is your Keras model\n",
        "# DO NOT convert y_test, i.e. don't use keras.utils.to_categorical()\n",
        "test_model(autoencoder, x_test, y_test, class_weight, batch_size=100)"
      ],
      "execution_count": 13,
      "outputs": [
        {
          "output_type": "stream",
          "text": [
            "Classifier score: 94.26\n",
            "SSIM score: 89.65\n"
          ],
          "name": "stdout"
        }
      ]
    }
  ]
}
